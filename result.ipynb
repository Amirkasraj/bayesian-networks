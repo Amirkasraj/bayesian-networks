{
 "cells": [
  {
   "cell_type": "markdown",
   "metadata": {},
   "source": [
    "# Bayesian Network Methods\n",
    "here we're going to implement some algorithms using bayesian networks."
   ]
  },
  {
   "cell_type": "markdown",
   "metadata": {},
   "source": [
    "# BayesPy\n",
    "A python library developed years age. here you can find the documentation: http://www.bayespy.org/\n",
    "https://github.com/bayespy/bayespy"
   ]
  },
  {
   "cell_type": "markdown",
   "metadata": {},
   "source": [
    "# Some basic samples using BayesPy"
   ]
  },
  {
   "cell_type": "markdown",
   "metadata": {},
   "source": [
    "A simple discrete example: https://github.com/bayespy/bayespy/issues/62\n",
    "A more complicated yet tiny use of the library. You can find it in this article: https://github.com/bayespy/bayespy/issues/23"
   ]
  },
  {
   "cell_type": "markdown",
   "metadata": {},
   "source": [
    "# samiam\n",
    "An application which helps you with making networks and calculating conditional probabilities with a simple GUI."
   ]
  },
  {
   "cell_type": "markdown",
   "metadata": {},
   "source": [
    "# pomegranate\n",
    "A python library for bayesian networks thats worths a look: \n",
    "https://github.com/jmschrei/pomegranate\n",
    "https://github.com/jmschrei/pomegranate/blob/master/tutorials/Tutorial_4_Bayesian_Networks.ipynb"
   ]
  },
  {
   "cell_type": "markdown",
   "metadata": {},
   "source": [
    "# PyMC\n",
    "A well supported library for Probabilistic Programming, I should read more about it.\n",
    "http://docs.pymc.io/\n",
    "https://pymc-devs.github.io/pymc/"
   ]
  },
  {
   "cell_type": "markdown",
   "metadata": {},
   "source": [
    "# pgmpy\n",
    "Another recommended library for working with Probabilistic Graphical Models.\n",
    "https://github.com/pgmpy/pgmpy\n",
    "http://pgmpy.org/"
   ]
  },
  {
   "cell_type": "markdown",
   "metadata": {},
   "source": [
    "# libpgm\n",
    "Guess what! :)) https://pythonhosted.org/libpgm/ https://pythonhosted.org/libpgm/pgmlearner.html https://www.systutorials.com/docs/linux/man/3-libpgm/"
   ]
  },
  {
   "cell_type": "markdown",
   "metadata": {},
   "source": [
    "# pcalg\n",
    "A python code for structure learning from data: https://github.com/keiichishima/pcalg"
   ]
  },
  {
   "cell_type": "markdown",
   "metadata": {},
   "source": [
    "# some useful notebook\n",
    "https://github.com/suwangcompling/probabilisticgraphicalmodels\n",
    "https://github.com/CamDavidsonPilon/Probabilistic-Programming-and-Bayesian-Methods-for-Hackers"
   ]
  },
  {
   "cell_type": "markdown",
   "metadata": {},
   "source": [
    "# Python Bayesian Network Toolbox (pbnt)\n",
    "Not a well supported library: https://github.com/achille/pbnt"
   ]
  },
  {
   "cell_type": "markdown",
   "metadata": {},
   "source": [
    "# BNFinder\n",
    "https://github.com/sysbio-vo/bnfinder http://bioputer.mimuw.edu.pl/software/bnf/\n",
    "todo"
   ]
  },
  {
   "cell_type": "markdown",
   "metadata": {},
   "source": [
    "tetrad quantopian"
   ]
  },
  {
   "cell_type": "markdown",
   "metadata": {},
   "source": [
    "# some graphical tools\n",
    "http://www.cs.iit.edu/~mbilgic/classes/fall10/cs595/tools.html"
   ]
  },
  {
   "cell_type": "markdown",
   "metadata": {},
   "source": [
    "# related papers\n",
    "https://www.researchgate.net/publication/257403750_Stock_price_forecast_using_Bayesian_network"
   ]
  },
  {
   "cell_type": "markdown",
   "metadata": {},
   "source": [
    "# BayesiaLab \n",
    "a powerfull tool for bayesian networks with great documentation and community. there are a number of useful articles and videos related to this tool on web. http://www.bayesialab.com/"
   ]
  },
  {
   "cell_type": "markdown",
   "metadata": {},
   "source": [
    "# just a random practical work\n",
    "https://www.youtube.com/watch?v=_jQ1whun3xc"
   ]
  }
 ],
 "metadata": {
  "kernelspec": {
   "display_name": "Python 3",
   "language": "python",
   "name": "python3"
  },
  "language_info": {
   "codemirror_mode": {
    "name": "ipython",
    "version": 3
   },
   "file_extension": ".py",
   "mimetype": "text/x-python",
   "name": "python",
   "nbconvert_exporter": "python",
   "pygments_lexer": "ipython3",
   "version": "3.6.5"
  }
 },
 "nbformat": 4,
 "nbformat_minor": 2
}
