{
 "cells": [
  {
   "cell_type": "markdown",
   "metadata": {},
   "source": [
    "# pgmpy"
   ]
  },
  {
   "cell_type": "code",
   "execution_count": 121,
   "metadata": {},
   "outputs": [],
   "source": [
    "import numpy as np\n",
    "import pandas as pd"
   ]
  },
  {
   "cell_type": "markdown",
   "metadata": {},
   "source": [
    "# Gathering data"
   ]
  },
  {
   "cell_type": "code",
   "execution_count": 122,
   "metadata": {},
   "outputs": [],
   "source": [
    "import quandl as qd\n",
    "qd.ApiConfig.api_key = \"_4PBEc5xxKVoQoYxWcgG\""
   ]
  },
  {
   "cell_type": "code",
   "execution_count": 123,
   "metadata": {},
   "outputs": [],
   "source": [
    "#def get_from_quandl\n",
    "        "
   ]
  },
  {
   "cell_type": "markdown",
   "metadata": {},
   "source": [
    "# Creating network"
   ]
  },
  {
   "cell_type": "code",
   "execution_count": 174,
   "metadata": {},
   "outputs": [],
   "source": [
    "from pgmpy.models import BayesianModel\n",
    "import abc"
   ]
  },
  {
   "cell_type": "code",
   "execution_count": 175,
   "metadata": {},
   "outputs": [],
   "source": [
    "class Basic:\n",
    "    def __init__( self, params, start=0,lag=0):\n",
    "        self.model = BayesianModel()\n",
    "        for t in range(start,start+lag+1):\n",
    "            for s in params:\n",
    "                self.model.add_node(Basic.get(s,t))\n",
    "    @staticmethod\n",
    "    def get(param, lag):\n",
    "        return param+'_'+str(lag)"
   ]
  },
  {
   "cell_type": "code",
   "execution_count": 184,
   "metadata": {},
   "outputs": [],
   "source": [
    "class BNGrid(Basic):\n",
    "    def __init__( self, params,depth,start=0,lag=0):\n",
    "        if (depth>lag):\n",
    "            raise\n",
    "        super().__init__(params,start,lag)\n",
    "        for t in range(start,start+lag+1):\n",
    "            for s in params:\n",
    "                x = BNFull.get(s,t)\n",
    "                for tt in range(t+1,min(start+lag+1,t+depth+1)):\n",
    "                    for ss in params:\n",
    "                        par = BNFull.get(ss,tt)\n",
    "                        self.model.add_edge(par,x)"
   ]
  },
  {
   "cell_type": "code",
   "execution_count": 185,
   "metadata": {},
   "outputs": [],
   "source": [
    "class BNFull(BNGrid):\n",
    "    def __init__( self, params,start=0,lag=0):\n",
    "        super().__init__(params,depth=1,start=start,lag=lag)"
   ]
  },
  {
   "cell_type": "code",
   "execution_count": 186,
   "metadata": {},
   "outputs": [],
   "source": [
    "class BNCascade(BNFull):\n",
    "    def __init__(self,params,lag,target):\n",
    "        super().__init__(params,start=1,lag=lag-1)\n",
    "        target = BNCascade.get(target,0)\n",
    "        self.model.add_node(target)\n",
    "        for x in self.model.nodes():\n",
    "            if (x!=target):\n",
    "                self.model.add_edge(x,target)"
   ]
  },
  {
   "cell_type": "code",
   "execution_count": 187,
   "metadata": {},
   "outputs": [],
   "source": [
    "network = BNCascade(params=['GOLD','USD'],lag=2,target='Amghezi')"
   ]
  },
  {
   "cell_type": "code",
   "execution_count": 188,
   "metadata": {},
   "outputs": [
    {
     "data": {
      "text/plain": [
       "[('GOLD_1', 'Amghezi_0'),\n",
       " ('USD_1', 'Amghezi_0'),\n",
       " ('GOLD_2', 'GOLD_1'),\n",
       " ('GOLD_2', 'USD_1'),\n",
       " ('GOLD_2', 'Amghezi_0'),\n",
       " ('USD_2', 'GOLD_1'),\n",
       " ('USD_2', 'USD_1'),\n",
       " ('USD_2', 'Amghezi_0')]"
      ]
     },
     "execution_count": 188,
     "metadata": {},
     "output_type": "execute_result"
    }
   ],
   "source": [
    "network.model.edges()"
   ]
  },
  {
   "cell_type": "code",
   "execution_count": 189,
   "metadata": {},
   "outputs": [],
   "source": [
    "network = BNGrid(params=['GOLD','USD'],depth=2,lag=2)"
   ]
  },
  {
   "cell_type": "code",
   "execution_count": 190,
   "metadata": {},
   "outputs": [
    {
     "data": {
      "text/plain": [
       "[('GOLD_1', 'GOLD_0'),\n",
       " ('GOLD_1', 'USD_0'),\n",
       " ('USD_1', 'GOLD_0'),\n",
       " ('USD_1', 'USD_0'),\n",
       " ('GOLD_2', 'GOLD_0'),\n",
       " ('GOLD_2', 'USD_0'),\n",
       " ('GOLD_2', 'GOLD_1'),\n",
       " ('GOLD_2', 'USD_1'),\n",
       " ('USD_2', 'GOLD_0'),\n",
       " ('USD_2', 'USD_0'),\n",
       " ('USD_2', 'GOLD_1'),\n",
       " ('USD_2', 'USD_1')]"
      ]
     },
     "execution_count": 190,
     "metadata": {},
     "output_type": "execute_result"
    }
   ],
   "source": [
    "network.model.edges()"
   ]
  },
  {
   "cell_type": "code",
   "execution_count": null,
   "metadata": {},
   "outputs": [],
   "source": []
  }
 ],
 "metadata": {
  "kernelspec": {
   "display_name": "Python 3",
   "language": "python",
   "name": "python3"
  },
  "language_info": {
   "codemirror_mode": {
    "name": "ipython",
    "version": 3
   },
   "file_extension": ".py",
   "mimetype": "text/x-python",
   "name": "python",
   "nbconvert_exporter": "python",
   "pygments_lexer": "ipython3",
   "version": "3.6.5"
  }
 },
 "nbformat": 4,
 "nbformat_minor": 2
}
