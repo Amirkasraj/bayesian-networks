{
 "cells": [
  {
   "cell_type": "markdown",
   "metadata": {},
   "source": [
    "# Parameters"
   ]
  },
  {
   "cell_type": "code",
   "execution_count": 395,
   "metadata": {},
   "outputs": [],
   "source": [
    "list_of_currencies = ['MXN','JPY','INR','HKD','GBP','EUR','CNY','CHF','CAD','AUD']\n",
    "lag = 2"
   ]
  },
  {
   "cell_type": "code",
   "execution_count": 396,
   "metadata": {},
   "outputs": [],
   "source": [
    "import numpy as np\n",
    "import pandas as pd"
   ]
  },
  {
   "cell_type": "markdown",
   "metadata": {},
   "source": [
    "# Load data"
   ]
  },
  {
   "cell_type": "code",
   "execution_count": 397,
   "metadata": {},
   "outputs": [],
   "source": [
    "import quandl as qd\n",
    "qd.ApiConfig.api_key = \"_4PBEc5xxKVoQoYxWcgG\""
   ]
  },
  {
   "cell_type": "code",
   "execution_count": 398,
   "metadata": {},
   "outputs": [],
   "source": [
    "def get_currency(cur):\n",
    "    return qd.get('CUR/'+cur,transformation=\"rdiff\")"
   ]
  },
  {
   "cell_type": "markdown",
   "metadata": {},
   "source": [
    "# Networks"
   ]
  },
  {
   "cell_type": "code",
   "execution_count": 399,
   "metadata": {},
   "outputs": [],
   "source": [
    "from pgmpy.models import BayesianModel\n",
    "import abc\n",
    "import xml.etree.ElementTree as ET #a pretty well-documented xml module"
   ]
  },
  {
   "cell_type": "code",
   "execution_count": 400,
   "metadata": {},
   "outputs": [
    {
     "ename": "SyntaxError",
     "evalue": "invalid syntax (<ipython-input-400-87ab85dfc3c0>, line 71)",
     "output_type": "error",
     "traceback": [
      "\u001b[0;36m  File \u001b[0;32m\"<ipython-input-400-87ab85dfc3c0>\"\u001b[0;36m, line \u001b[0;32m71\u001b[0m\n\u001b[0;31m    int state=0\u001b[0m\n\u001b[0m            ^\u001b[0m\n\u001b[0;31mSyntaxError\u001b[0m\u001b[0;31m:\u001b[0m invalid syntax\n"
     ]
    }
   ],
   "source": [
    "class Basic:\n",
    "    \n",
    "    def __init__( self, params, start=0,lag=0):\n",
    "        self.list_of_params = params\n",
    "        self.time_frame = range(start,start+lag+1)\n",
    "        self.model = BayesianModel()\n",
    "        for t in self.time_frame:\n",
    "            for s in params:\n",
    "                self.model.add_node(Basic.get(s,t))\n",
    "        \n",
    "    @staticmethod\n",
    "    def get(param, lag):\n",
    "        return param+'_'+str(lag)\n",
    "    \n",
    "    def store_xml(self, name):\n",
    "        node2pos = dict()\n",
    "        node_space = 200\n",
    "        for i in range(len(self.list_of_params)):\n",
    "            for j in self.time_frame:\n",
    "                node2pos[Basic.get(self.list_of_params[i],j)]=(i*node_space,(j-self.time_frame[0])*node_space)\n",
    "        bif = ET.Element(\"BIF\")\n",
    "        network = ET.SubElement(bif, \"NETWORK\")\n",
    "        bif.set (\"VERSION\",\"\"\"0.3\"\"\")\n",
    "        ET.SubElement(network, \"NAME\").text = \"bayesiannetwork\"\n",
    "        for node in self.model.nodes():\n",
    "            var = ET.SubElement(network,\"VARIABLE\")\n",
    "            var.set(\"TYPE\",\"\"\"nature\"\"\")\n",
    "            ET.SubElement(var,\"NAME\").text = node\n",
    "            ET.SubElement(var,\"OUTCOME\").text = \"increase\"\n",
    "            ET.SubElement(var,\"OUTCOME\").text = \"decrease\"\n",
    "            ET.SubElement(var,\"PROPERTY\").text = \"position =\" + str(node2pos[node])\n",
    "        for node in self.model.nodes():\n",
    "            cpd = ET.SubElement(network,\"DEFINITION\")\n",
    "            ET.SubElement(cpd,\"FOR\").text = node\n",
    "            number_of_parents = len(self.model.get_parents(node))\n",
    "            for par in self.model.get_parents(node):\n",
    "                ET.SubElement(cpd,\"GIVEN\").text = par\n",
    "            s = \" \"\n",
    "            for i in range(2*2**number_of_parents):\n",
    "                s+=\"0.5 \"\n",
    "            ET.SubElement(cpd,\"TABLE\").text = s\n",
    "        tree = ET.ElementTree(bif)\n",
    "        file_name = '{}.xml'.format(name)\n",
    "        tree.write(file_name)\n",
    "                \n",
    "    def generate_table(self):\n",
    "        self.table = pd.DataFrame()\n",
    "        col_names = []\n",
    "        for cur in self.list_of_params:\n",
    "            data = get_currency(cur)\n",
    "            data.RATE = list(map(lambda x: '1' if x>=0 else '0',data.RATE)) # 1 for \"increase\", 0 for \"decrease\"\n",
    "            for i in range(self.time_frame[0]):\n",
    "                data=data.shift(1)\n",
    "            for l in self.time_frame:\n",
    "                self.table=pd.concat([self.table,data],axis=1)\n",
    "                data=data.shift(1)\n",
    "                col_names.append(Basic.get(cur,l))\n",
    "        self.table.columns = col_names\n",
    "        \n",
    "    def train(self):\n",
    "        self.model.fit(data=self.table,complete_samples_only=True)\n",
    "    \n",
    "    def query(self, target, observation={}):\n",
    "        df = pd.DataFrame(list(observation.values()))\n",
    "        df = df.T\n",
    "        df.columns = list(observation.keys())\n",
    "        print(df)\n",
    "        probs = self.model.predict_probability(df)\n",
    "        ans = {}\n",
    "        for var in target:\n",
    "            int state=0\n",
    "            p = []\n",
    "            while (True):\n",
    "                col_name = Basic.get(var,state)\n",
    "                if (col_name in df.columns):\n",
    "                    p.append(df[col_name])\n",
    "                else:\n",
    "                    break\n",
    "                state += 1\n",
    "            ans[var]=p\n",
    "        return ans"
   ]
  },
  {
   "cell_type": "code",
   "execution_count": null,
   "metadata": {},
   "outputs": [],
   "source": [
    "class BNGrid(Basic):\n",
    "    def __init__( self, params,depth,start=0,lag=0):\n",
    "        if (depth>lag):\n",
    "            raise\n",
    "        super().__init__(params,start,lag)\n",
    "        for t in range(start,start+lag+1):\n",
    "            for s in params:\n",
    "                x = BNFull.get(s,t)\n",
    "                for tt in range(t+1,min(start+lag+1,t+depth+1)):\n",
    "                    for ss in params:\n",
    "                        par = BNFull.get(ss,tt)\n",
    "                        self.model.add_edge(par,x)"
   ]
  },
  {
   "cell_type": "code",
   "execution_count": null,
   "metadata": {},
   "outputs": [],
   "source": [
    "class BNFull(BNGrid):\n",
    "    def __init__( self, params,start=0,lag=0):\n",
    "        super().__init__(params,depth=1,start=start,lag=lag)"
   ]
  },
  {
   "cell_type": "code",
   "execution_count": null,
   "metadata": {},
   "outputs": [],
   "source": [
    "class BNCascade(BNFull):\n",
    "    def __init__(self,params,lag,target):\n",
    "        super().__init__(params,start=1,lag=lag-1)\n",
    "        target = BNCascade.get(target,0)\n",
    "        self.model.add_node(target)\n",
    "        for x in self.model.nodes():\n",
    "            if (x!=target):\n",
    "                self.model.add_edge(x,target)"
   ]
  },
  {
   "cell_type": "markdown",
   "metadata": {},
   "source": [
    "# Store "
   ]
  },
  {
   "cell_type": "code",
   "execution_count": null,
   "metadata": {},
   "outputs": [],
   "source": [
    "def store_table(table,name):\n",
    "    t = table.copy()\n",
    "    t.replace(np.nan,'N/A',inplace=True)\n",
    "    file_name = '{}.dat'.format(name)\n",
    "    t.to_csv( file_name, index = False )"
   ]
  },
  {
   "cell_type": "code",
   "execution_count": null,
   "metadata": {},
   "outputs": [],
   "source": []
  },
  {
   "cell_type": "code",
   "execution_count": null,
   "metadata": {},
   "outputs": [],
   "source": []
  },
  {
   "cell_type": "code",
   "execution_count": null,
   "metadata": {},
   "outputs": [],
   "source": [
    "network = BNFull(params=['EUR','MXN'],lag=2)"
   ]
  },
  {
   "cell_type": "code",
   "execution_count": null,
   "metadata": {},
   "outputs": [],
   "source": [
    "network.generate_table()"
   ]
  },
  {
   "cell_type": "code",
   "execution_count": null,
   "metadata": {},
   "outputs": [],
   "source": [
    "#network.store_xml('xmlforsamiam')"
   ]
  },
  {
   "cell_type": "code",
   "execution_count": null,
   "metadata": {},
   "outputs": [],
   "source": [
    "#store_table(network.table,'dataforsamiam')"
   ]
  },
  {
   "cell_type": "code",
   "execution_count": null,
   "metadata": {},
   "outputs": [],
   "source": [
    "network.train()"
   ]
  },
  {
   "cell_type": "code",
   "execution_count": null,
   "metadata": {},
   "outputs": [],
   "source": [
    "network.query(['EUR_0'],{'EUR_1':1})"
   ]
  },
  {
   "cell_type": "code",
   "execution_count": null,
   "metadata": {},
   "outputs": [],
   "source": []
  },
  {
   "cell_type": "code",
   "execution_count": null,
   "metadata": {},
   "outputs": [],
   "source": []
  }
 ],
 "metadata": {
  "kernelspec": {
   "display_name": "Python 3",
   "language": "python",
   "name": "python3"
  },
  "language_info": {
   "codemirror_mode": {
    "name": "ipython",
    "version": 3
   },
   "file_extension": ".py",
   "mimetype": "text/x-python",
   "name": "python",
   "nbconvert_exporter": "python",
   "pygments_lexer": "ipython3",
   "version": "3.6.5"
  }
 },
 "nbformat": 4,
 "nbformat_minor": 2
}
