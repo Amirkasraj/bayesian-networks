{
 "cells": [
  {
   "cell_type": "markdown",
   "metadata": {},
   "source": [
    "# Static Paramters"
   ]
  },
  {
   "cell_type": "code",
   "execution_count": 46,
   "metadata": {},
   "outputs": [],
   "source": [
    "# Directories\n",
    "data_src = 'data-raw/'\n",
    "data_dst = 'data-processed/'\n",
    "\n",
    "list_to_track = ['GOLD','USD','GBP','JPY','EUR']\n",
    "\n",
    "# Files\n",
    "file_names = {\n",
    "    'Britain' : 'CUR-GBP.csv',\n",
    "    'Japan' : 'CUR-JPY.csv',\n",
    "    'Europe' : 'ECB-EURUSD.csv', # This one should be inverted!\n",
    "    'Gold': 'WGC-GOLD_DAILY_USD.csv', # This one should be inverted!\n",
    "}"
   ]
  },
  {
   "cell_type": "markdown",
   "metadata": {},
   "source": [
    "# Modules"
   ]
  },
  {
   "cell_type": "code",
   "execution_count": 51,
   "metadata": {},
   "outputs": [],
   "source": [
    "import os # path.join\n",
    "import pandas as pd # read_csv\n",
    "import numpy as np # np.nan"
   ]
  },
  {
   "cell_type": "markdown",
   "metadata": {},
   "source": [
    "# Load Data"
   ]
  },
  {
   "cell_type": "code",
   "execution_count": 52,
   "metadata": {},
   "outputs": [],
   "source": [
    "# File Data Dictionary\n",
    "file_data = dict()\n",
    "\n",
    "# Read and Store Data\n",
    "for file_key in file_names:\n",
    "    # Get File Path\n",
    "    file_name = file_names[file_key]\n",
    "    file_path = os.path.join( data_src, file_name )\n",
    "    # Read\n",
    "    data = pd.read_csv( file_path, parse_dates=[0] )\n",
    "    # Rename Columns\n",
    "    data.columns = [ 'Date', 'Value' ]\n",
    "    # Do Conversion if required\n",
    "    if( file_key in [ 'Gold', 'Europe', 'Dax' ] ):\n",
    "        data['Value'] = 1 / data['Value']\n",
    "    # Sort by Date\n",
    "    data.sort_values( ['Date'], axis = 0, inplace=True )\n",
    "    # Reset Index\n",
    "    data.reset_index( drop=True, inplace=True )\n",
    "    # Add Boolean Column\n",
    "    # Continuous or not?!\n",
    "    data['is_continuous'] = (data.Date - data.Date.shift(1)).map( lambda x: x.days <= 1 )\n",
    "    # Calculate Growth\n",
    "    data[file_key] = (data['Value'] / data['Value'].shift(1)).map( lambda x: 'increase' if x > 1 else 'decrease' )\n",
    "    # Filter\n",
    "    data = data[ data.is_continuous ]\n",
    "    # Drop / Select\n",
    "    data.drop( labels=['Value', 'is_continuous'], axis=1, inplace=True )\n",
    "    # Store\n",
    "    file_data[ file_key ] = data.copy()"
   ]
  },
  {
   "cell_type": "markdown",
   "metadata": {},
   "source": [
    "# Merge Data"
   ]
  },
  {
   "cell_type": "code",
   "execution_count": 53,
   "metadata": {},
   "outputs": [],
   "source": [
    "df_data = {\n",
    "    'inner' : pd.DataFrame(),\n",
    "    'outer' : pd.DataFrame()\n",
    "}\n",
    "for merge_type in df_data:\n",
    "    # Merge\n",
    "    for key in file_data:\n",
    "        if( df_data[merge_type].shape[0] == 0 ):\n",
    "            df_data[merge_type] = file_data[key].copy()\n",
    "        else:\n",
    "            df_data[merge_type] = pd.merge( df_data[merge_type], file_data[key], on = 'Date', how = merge_type )\n",
    "    # Drop Date\n",
    "    df_data[merge_type].drop( labels = ['Date'], axis = 1, inplace = True )"
   ]
  },
  {
   "cell_type": "markdown",
   "metadata": {},
   "source": [
    "# Adding N/A to data"
   ]
  },
  {
   "cell_type": "code",
   "execution_count": 54,
   "metadata": {},
   "outputs": [],
   "source": [
    "df_data['outer'].replace(np.nan,'N/A',inplace=True)"
   ]
  },
  {
   "cell_type": "markdown",
   "metadata": {},
   "source": [
    "# Store"
   ]
  },
  {
   "cell_type": "code",
   "execution_count": 55,
   "metadata": {},
   "outputs": [],
   "source": [
    "for key in df_data:\n",
    "    # Path\n",
    "    file_name = '{}.dat'.format( key )\n",
    "    file_path = os.path.join( data_dst, file_name )\n",
    "    # Store\n",
    "    df_data[key].to_csv( file_path, index = False )"
   ]
  },
  {
   "cell_type": "code",
   "execution_count": null,
   "metadata": {},
   "outputs": [],
   "source": [
    "\n",
    "\n",
    "\n",
    "\n",
    "\n",
    "\n",
    "\n"
   ]
  },
  {
   "cell_type": "code",
   "execution_count": null,
   "metadata": {},
   "outputs": [],
   "source": []
  },
  {
   "cell_type": "code",
   "execution_count": null,
   "metadata": {},
   "outputs": [],
   "source": []
  }
 ],
 "metadata": {
  "kernelspec": {
   "display_name": "Python 3",
   "language": "python",
   "name": "python3"
  },
  "language_info": {
   "codemirror_mode": {
    "name": "ipython",
    "version": 3
   },
   "file_extension": ".py",
   "mimetype": "text/x-python",
   "name": "python",
   "nbconvert_exporter": "python",
   "pygments_lexer": "ipython3",
   "version": "3.6.5"
  }
 },
 "nbformat": 4,
 "nbformat_minor": 2
}
