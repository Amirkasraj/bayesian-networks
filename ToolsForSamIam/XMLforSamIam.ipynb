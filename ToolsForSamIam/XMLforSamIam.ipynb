{
 "cells": [
  {
   "cell_type": "markdown",
   "metadata": {},
   "source": [
    "# Generating an XML file for samiam\n",
    "we are trying to for the graph for samiam without the GUI."
   ]
  },
  {
   "cell_type": "code",
   "execution_count": 14,
   "metadata": {},
   "outputs": [],
   "source": [
    "import xml.etree.ElementTree as ET # a pretty well-documented xml module"
   ]
  },
  {
   "cell_type": "markdown",
   "metadata": {},
   "source": [
    "The main structure of the file should be like this."
   ]
  },
  {
   "cell_type": "code",
   "execution_count": 15,
   "metadata": {},
   "outputs": [],
   "source": [
    "bif = ET.Element(\"BIF\")\n",
    "network = ET.SubElement(bif, \"NETWORK\")\n",
    "bif.set (\"VERSION\",\"\"\"0.3\"\"\")\n",
    "ET.SubElement(network, \"NAME\").text = \"bayesiannetwork\""
   ]
  },
  {
   "cell_type": "markdown",
   "metadata": {},
   "source": [
    "We need to form the main structure of the graph using NetworkX library."
   ]
  },
  {
   "cell_type": "code",
   "execution_count": 16,
   "metadata": {},
   "outputs": [],
   "source": [
    "import networkx as nx"
   ]
  },
  {
   "cell_type": "markdown",
   "metadata": {},
   "source": [
    "Now we should name the nodes of the graph."
   ]
  },
  {
   "cell_type": "code",
   "execution_count": 17,
   "metadata": {},
   "outputs": [],
   "source": [
    "g = nx.DiGraph()\n",
    "list_to_track = ['GOLD','GBP','JPY','EUR','DAX']\n",
    "time = 4\n",
    "list_of_nodes = []\n",
    "for s in list_to_track:\n",
    "    for t in range(time):\n",
    "        f = s+\"_\"+str(t)\n",
    "        list_of_nodes.append(f)\n",
    "        \n",
    "for node in list_of_nodes:\n",
    "    g.add_node(node)"
   ]
  },
  {
   "cell_type": "markdown",
   "metadata": {},
   "source": [
    "Adding edges to the graph."
   ]
  },
  {
   "cell_type": "code",
   "execution_count": 18,
   "metadata": {},
   "outputs": [],
   "source": [
    "for s in list_to_track:\n",
    "    for t in range(0,time):\n",
    "        for tt in range(t+1,time):\n",
    "            x = s+\"_\"+str(t)\n",
    "            y = s+\"_\"+str(tt)\n",
    "            g.add_edge(y,x)\n",
    "            if (s!='GOLD'):\n",
    "                g.add_edge(y,'GOLD_'+str(t))"
   ]
  },
  {
   "cell_type": "markdown",
   "metadata": {},
   "source": [
    "Setting nodes to positions:"
   ]
  },
  {
   "cell_type": "code",
   "execution_count": 19,
   "metadata": {},
   "outputs": [],
   "source": [
    "node2pos = dict()\n",
    "number_of_stocks = len(list_to_track)\n",
    "\n",
    "node_space = 200\n",
    "\n",
    "for i in range(number_of_stocks):\n",
    "    for j in range(time):\n",
    "        x = list_to_track[i]+'_'+str(j)\n",
    "        node2pos[x]=(i*node_space,j*node_space)"
   ]
  },
  {
   "cell_type": "markdown",
   "metadata": {},
   "source": [
    "nobati ham bashe nobate sakhtane xml e!"
   ]
  },
  {
   "cell_type": "code",
   "execution_count": 23,
   "metadata": {},
   "outputs": [],
   "source": [
    "for node in g.nodes():\n",
    "    var = ET.SubElement(network,\"VARIABLE\")\n",
    "    var.set(\"TYPE\",\"\"\"nature\"\"\")\n",
    "    ET.SubElement(var,\"NAME\").text = node\n",
    "    ET.SubElement(var,\"OUTCOME\").text = \"increase\"\n",
    "    ET.SubElement(var,\"OUTCOME\").text = \"decrease\"\n",
    "    ET.SubElement(var,\"PROPERTY\").text = \"position =\" + str(node2pos[node])\n",
    "\n",
    "for node in g.nodes():\n",
    "    cpd = ET.SubElement(network,\"DEFINITION\")\n",
    "    ET.SubElement(cpd,\"FOR\").text = node\n",
    "    for par in list(g.predecessors(node)):\n",
    "        ET.SubElement(cpd,\"GIVEN\").text = par\n",
    "    s = \" \"\n",
    "    for i in range(2*2**(g.in_degree(node))):\n",
    "        s+=\"0.5 \"\n",
    "    ET.SubElement(cpd,\"TABLE\").text = s\n"
   ]
  },
  {
   "cell_type": "markdown",
   "metadata": {},
   "source": [
    "Store"
   ]
  },
  {
   "cell_type": "code",
   "execution_count": 24,
   "metadata": {},
   "outputs": [],
   "source": [
    "tree = ET.ElementTree(bif)\n",
    "tree.write(\"auto.xml\")"
   ]
  },
  {
   "cell_type": "code",
   "execution_count": 27,
   "metadata": {},
   "outputs": [
    {
     "name": "stdout",
     "output_type": "stream",
     "text": [
      "<Element 'BIF' at 0xa0d558688>\n"
     ]
    }
   ],
   "source": [
    "print(bif)"
   ]
  },
  {
   "cell_type": "code",
   "execution_count": null,
   "metadata": {},
   "outputs": [],
   "source": [
    "list_to_track"
   ]
  },
  {
   "cell_type": "code",
   "execution_count": null,
   "metadata": {},
   "outputs": [],
   "source": []
  }
 ],
 "metadata": {
  "kernelspec": {
   "display_name": "Python 3",
   "language": "python",
   "name": "python3"
  },
  "language_info": {
   "codemirror_mode": {
    "name": "ipython",
    "version": 3
   },
   "file_extension": ".py",
   "mimetype": "text/x-python",
   "name": "python",
   "nbconvert_exporter": "python",
   "pygments_lexer": "ipython3",
   "version": "3.6.5"
  }
 },
 "nbformat": 4,
 "nbformat_minor": 2
}
