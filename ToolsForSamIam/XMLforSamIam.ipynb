{
 "cells": [
  {
   "cell_type": "markdown",
   "metadata": {},
   "source": [
    "# Generating an XML file for samiam\n",
    "we are trying to for the graph for samiam without the GUI."
   ]
  },
  {
   "cell_type": "code",
   "execution_count": 118,
   "metadata": {},
   "outputs": [],
   "source": [
    "import xml.etree.ElementTree as ET # a pretty well-documented xml module"
   ]
  },
  {
   "cell_type": "markdown",
   "metadata": {},
   "source": [
    "The main structure of the file should be like this."
   ]
  },
  {
   "cell_type": "code",
   "execution_count": 119,
   "metadata": {},
   "outputs": [],
   "source": [
    "bif = ET.Element(\"BIF\")\n",
    "network = ET.SubElement(bif, \"NETWORK\")\n",
    "bif.set (\"VERSION\",\"\"\"0.3\"\"\")\n",
    "ET.SubElement(network, \"NAME\").text = \"bayesiannetwork\""
   ]
  },
  {
   "cell_type": "markdown",
   "metadata": {},
   "source": [
    "We need to form the main structure of the graph using NetworkX library."
   ]
  },
  {
   "cell_type": "code",
   "execution_count": 120,
   "metadata": {},
   "outputs": [],
   "source": [
    "import networkx as nx"
   ]
  },
  {
   "cell_type": "markdown",
   "metadata": {},
   "source": [
    "Now we should name the nodes of the graph."
   ]
  },
  {
   "cell_type": "code",
   "execution_count": 121,
   "metadata": {},
   "outputs": [],
   "source": [
    "g = nx.DiGraph()\n",
    "list_of_nodes = ['daddy','baby']\n",
    "for x in list_of_nodes:\n",
    "    g.add_node(x)"
   ]
  },
  {
   "cell_type": "markdown",
   "metadata": {},
   "source": [
    "Adding edges to the graph."
   ]
  },
  {
   "cell_type": "code",
   "execution_count": 122,
   "metadata": {},
   "outputs": [],
   "source": [
    "g.add_edge('daddy','baby')"
   ]
  },
  {
   "cell_type": "markdown",
   "metadata": {},
   "source": [
    "nobati ham bashe nobate sakhtane xml e!"
   ]
  },
  {
   "cell_type": "code",
   "execution_count": 123,
   "metadata": {},
   "outputs": [],
   "source": [
    "\n",
    "for node in g.nodes:\n",
    "    var = ET.SubElement(network,\"VARIABLE\")\n",
    "    var.set(\"TYPE\",\"\"\"nature\"\"\")\n",
    "    ET.SubElement(var,\"NAME\").text = node\n",
    "    ET.SubElement(var,\"OUTCOME\").text = \"increase\"\n",
    "    ET.SubElement(var,\"OUTCOME\").text = \"decrease\"\n",
    "    ET.SubElement(var,\"PROPERTY\").text = \"position = (100,-100)\"\n",
    "\n",
    "for node in g.nodes:\n",
    "    cpd = ET.SubElement(network,\"DEFINITION\")\n",
    "    ET.SubElement(cpd,\"FOR\").text = node\n",
    "    for par in list(g.predecessors(node)):\n",
    "        ET.SubElement(cpd,\"GIVEN\").text = par\n",
    "    s = \" \"\n",
    "    for i in range(2*2**(g.in_degree(node))):\n",
    "        s+=\"0.5 \"\n",
    "    ET.SubElement(cpd,\"TABLE\").text = s\n"
   ]
  },
  {
   "cell_type": "markdown",
   "metadata": {},
   "source": [
    "Store"
   ]
  },
  {
   "cell_type": "code",
   "execution_count": 124,
   "metadata": {},
   "outputs": [],
   "source": [
    "tree = ET.ElementTree(bif)\n",
    "tree.write(\"auto.xml\")"
   ]
  },
  {
   "cell_type": "code",
   "execution_count": null,
   "metadata": {},
   "outputs": [],
   "source": []
  }
 ],
 "metadata": {
  "kernelspec": {
   "display_name": "Python 3",
   "language": "python",
   "name": "python3"
  },
  "language_info": {
   "codemirror_mode": {
    "name": "ipython",
    "version": 3
   },
   "file_extension": ".py",
   "mimetype": "text/x-python",
   "name": "python",
   "nbconvert_exporter": "python",
   "pygments_lexer": "ipython3",
   "version": "3.6.5"
  }
 },
 "nbformat": 4,
 "nbformat_minor": 2
}
